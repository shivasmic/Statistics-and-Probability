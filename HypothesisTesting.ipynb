{
 "cells": [
  {
   "cell_type": "markdown",
   "metadata": {},
   "source": [
    "# Hypothesis Testing"
   ]
  },
  {
   "cell_type": "code",
   "execution_count": 20,
   "metadata": {},
   "outputs": [
    {
     "data": {
      "image/png": "[encoded data removed]",
      "text/plain": [
       "<Figure size 432x288 with 1 Axes>"
      ]
     },
     "metadata": {
      "needs_background": "light"
     },
     "output_type": "display_data"
    }
   ],
   "source": [
    "#Binomial Distribution\n",
    "\n",
    "from scipy.stats import binom      #for binomial distribution\n",
    "import matplotlib.pyplot as plt\n",
    "\n",
    "fig, ax = plt.subplots(1,1)\n",
    "x = [0,1,2,3,4,5,6]\n",
    "n = 6\n",
    "p = 0.5\n",
    "m = binom(n,p)\n",
    "ax.vlines(x,0,m.pmf(x),linestyles = '-', colors = 'r', label = 'Probability')  #for handling vertical lines\n",
    "ax.legend(loc = 'best', frameon = 'false')\n",
    "plt.show()\n",
    "\n",
    "#figure is showing that the probability of getting head three times is maximum"
   ]
  },
  {
   "cell_type": "code",
   "execution_count": 22,
   "metadata": {},
   "outputs": [
    {
     "data": {
      "image/png": "[encoded data removed]",
      "text/plain": [
       "<Figure size 432x288 with 1 Axes>"
      ]
     },
     "metadata": {
      "needs_background": "light"
     },
     "output_type": "display_data"
    }
   ],
   "source": [
    "#Statistics\n",
    "\n",
    "from scipy.stats import binom      #for binomial distribution\n",
    "import matplotlib.pyplot as plt\n",
    "\n",
    "fig, ax = plt.subplots(1,1)\n",
    "x = [0,1,2,3,4,5,6,7,8,9,10]\n",
    "n = 10\n",
    "p = 0.70\n",
    "m = binom(n,p)\n",
    "ax.vlines(x,0,m.pmf(x),linestyles = '-', colors = 'r', label = 'Probability')  #for handling vertical lines\n",
    "ax.legend(loc = 'best', frameon = 'false')\n",
    "plt.show()\n",
    "\n",
    "#figure is showing that the probability of getting head seven times is maximum"
   ]
  },
  {
   "cell_type": "code",
   "execution_count": 24,
   "metadata": {},
   "outputs": [
    {
     "data": {
      "image/png": "[encoded data removed]",
      "text/plain": [
       "<Figure size 432x288 with 1 Axes>"
      ]
     },
     "metadata": {
      "needs_background": "light"
     },
     "output_type": "display_data"
    }
   ],
   "source": [
    "#Statistics\n",
    "\n",
    "from scipy.stats import binom      #for binomial distribution\n",
    "import matplotlib.pyplot as plt\n",
    "\n",
    "fig, ax = plt.subplots(1,1)\n",
    "x = range(1001)\n",
    "n = 1000\n",
    "p = 0.50\n",
    "m = binom(n,p)\n",
    "ax.vlines(x,0,m.pmf(x),linestyles = '-', colors = 'r', label = 'Probability')  #for handling vertical lines\n",
    "ax.legend(loc = 'best', frameon = 'false')\n",
    "plt.show()\n",
    "\n",
    "#figure is showing that the probability of getting head 500 times is maximum"
   ]
  },
  {
   "cell_type": "code",
   "execution_count": 26,
   "metadata": {},
   "outputs": [
    {
     "data": {
      "text/plain": [
       "0.06688147366240117"
      ]
     },
     "execution_count": 26,
     "metadata": {},
     "output_type": "execute_result"
    }
   ],
   "source": [
    "#Poissons Distribution\n",
    "\n",
    "from scipy.stats import poisson\n",
    "n = 20\n",
    "rv = poisson(n)\n",
    "rv.pmf(23)"
   ]
  },
  {
   "cell_type": "code",
   "execution_count": 3,
   "metadata": {},
   "outputs": [
    {
     "name": "stdout",
     "output_type": "stream",
     "text": [
      "[1 1 1 1 0 1 1 1 1 1 1 1 0 1 1 0 0 1 0 1 1 0 0 1 0 1 0 1 1 1 1 1 1 1 0 1 0\n",
      " 1 1 1 1 0 0 1 1 1 1 1 1 1 1 1 1 1 1 1 1 1 0 0 1 1 1 1 0 1 1 1 1 1 1 0 1 1\n",
      " 0 1 0 1 1 1 0 1 1 0 1 0 1 0 1 0 0 1 1 0 1 0 1 0 1 0]\n"
     ]
    }
   ],
   "source": [
    "#Bernoulli Distribution in this snippet a distribution of 100 values is being generated along with a probablity of 70%\n",
    "from scipy.stats import bernoulli\n",
    "print(bernoulli.rvs(.7, size = 100))\n"
   ]
  },
  {
   "cell_type": "code",
   "execution_count": 11,
   "metadata": {},
   "outputs": [
    {
     "name": "stderr",
     "output_type": "stream",
     "text": [
      "G:\\Anaconda3\\lib\\site-packages\\ipykernel_launcher.py:5: MatplotlibDeprecationWarning: \n",
      "The 'normed' kwarg was deprecated in Matplotlib 2.1 and will be removed in 3.1. Use 'density' instead.\n",
      "  \"\"\"\n"
     ]
    },
    {
     "data": {
      "image/png": "[encoded data removed]",
      "text/plain": [
       "<Figure size 432x288 with 1 Axes>"
      ]
     },
     "metadata": {
      "needs_background": "light"
     },
     "output_type": "display_data"
    }
   ],
   "source": [
    "#Z-Score\n",
    "import numpy as np\n",
    "import matplotlib.pyplot as plt\n",
    "c = np.random.normal(50,10,60).round() #it is a distribution of 60 students with mean of 50 and std dev of 10\n",
    "plt.hist(c, 30, normed = True)\n",
    "plt.show()"
   ]
  },
  {
   "cell_type": "code",
   "execution_count": 17,
   "metadata": {},
   "outputs": [
    {
     "name": "stdout",
     "output_type": "stream",
     "text": [
      "[54. 57. 51. 42. 39. 54. 65. 72. 43. 41. 40. 55. 38. 47. 39. 48. 43. 43.\n",
      " 47. 37. 60. 60. 54. 52. 64. 69. 38. 64. 58. 37. 53. 29. 58. 52. 56. 51.\n",
      " 63. 67. 49. 50. 36. 60. 66. 33. 66. 37. 49. 51. 65. 60. 36. 42. 47. 59.\n",
      " 46. 56. 41. 53. 54. 37.]\n",
      "[ 0.33402263  0.6244771   0.04356817 -0.82779522 -1.11824968  0.33402263\n",
      "  1.39902233  2.07674941 -0.73097707 -0.92461338 -1.02143153  0.43084079\n",
      " -1.21506784 -0.34370445 -1.11824968 -0.24688629 -0.73097707 -0.73097707\n",
      " -0.34370445 -1.31188599  0.91493156  0.91493156  0.33402263  0.14038632\n",
      "  1.30220418  1.78629495 -1.21506784  1.30220418  0.72129525 -1.31188599\n",
      "  0.23720448 -2.08643123  0.72129525  0.14038632  0.52765894  0.04356817\n",
      "  1.20538602  1.59265864 -0.15006814 -0.05324998 -1.40870415  0.91493156\n",
      "  1.49584049 -1.69915861  1.49584049 -1.31188599 -0.15006814  0.04356817\n",
      "  1.39902233  0.91493156 -1.40870415 -0.82779522 -0.34370445  0.81811341\n",
      " -0.4405226   0.52765894 -0.92461338  0.23720448  0.33402263 -1.31188599]\n"
     ]
    }
   ],
   "source": [
    "import numpy as np\n",
    "import matplotlib.pyplot as plt\n",
    "c = np.random.normal(50,10,60).round() \n",
    "print(c)\n",
    "print(stats.zscore(c))"
   ]
  },
  {
   "cell_type": "code",
   "execution_count": 27,
   "metadata": {},
   "outputs": [
    {
     "name": "stdout",
     "output_type": "stream",
     "text": [
      "0.18012206503492822\n"
     ]
    }
   ],
   "source": [
    "#in above distribution the z-score of getting 60 marks is .9149 what if someone wants\n",
    "# to know whats the probability of getting score>60\n",
    "prob_60 = stats.norm.cdf(.9149) #prob of getting a the values upto the z-score of .9149. \n",
    "#CDF = Cumulative Distribution Function\n",
    "prob = 1 - prob_60 #it is the prob of values having a z-score>.9149\n",
    "print(prob)\n",
    "\n",
    "#it is the prob of getting marks greater than 60% in the above normal distn\n"
   ]
  },
  {
   "cell_type": "code",
   "execution_count": 28,
   "metadata": {},
   "outputs": [
    {
     "name": "stdout",
     "output_type": "stream",
     "text": [
      "57.93858300313731\n"
     ]
    }
   ],
   "source": [
    "#how many students made it to the top 20% of the class\n",
    "#first we'll have to determine the marks above which they'll be in top 20 of the class\n",
    "p = stats.norm.ppf(.80) #percent point function\n",
    "score = (p*c.std())+c.mean()\n",
    "print(score)\n",
    "#it means that for a student to be in top 20 of the class he has to score more than or equal to 59.24%"
   ]
  },
  {
   "cell_type": "code",
   "execution_count": 29,
   "metadata": {},
   "outputs": [
    {
     "name": "stdout",
     "output_type": "stream",
     "text": [
      "1.3745296367833233\n",
      "0.08463865799945391\n"
     ]
    }
   ],
   "source": [
    "#Hypothesis: It is not common for students to score marks > 68% in exams\n",
    "#Null-Hypothesis: It is common for students to score marks > 68% in exams\n",
    "#alpha level = 5% = 0.05\n",
    "import numpy as np\n",
    "from scipy import stats\n",
    "c = np.random.normal(50,10,60).round()\n",
    "z = (68-c.mean())/c.std()\n",
    "print(z)\n",
    "p_value = 1 - stats.norm.cdf(z)\n",
    "print(p_value)\n",
    "#As we can see that the null hypothesis can be rejected \n",
    "# And it is not easy for students to score more than 68% in Maths exam"
   ]
  },
  {
   "cell_type": "code",
   "execution_count": 2,
   "metadata": {},
   "outputs": [
    {
     "name": "stdout",
     "output_type": "stream",
     "text": [
      "0.009815328628645334\n"
     ]
    }
   ],
   "source": [
    "#Two tailed hypothesis\n",
    "#Hypothesis: National average of a mathematics exam is 60 and std dev is 3\n",
    "#Null Hypothesis: Class average is 53% and is similar to national average\n",
    "#alpha-level = 5%\n",
    "from scipy import stats\n",
    "z = (53-60)/3\n",
    "\n",
    "p = stats.norm.cdf(z) #not subtracting from 1 because the z-score is less than 0 and the data point \n",
    "#lies on the left side of the mean\n",
    "\n",
    "print(p)\n",
    "#Here the p-value is less than 2.5% on either side of the bell-curve hence the null hypothesis can be rejected"
   ]
  },
  {
   "cell_type": "code",
   "execution_count": 22,
   "metadata": {},
   "outputs": [
    {
     "data": {
      "text/plain": [
       "Ttest_indResult(statistic=-5.458195056848408, pvalue=3.482072285015316e-05)"
      ]
     },
     "execution_count": 22,
     "metadata": {},
     "output_type": "execute_result"
    }
   ],
   "source": [
    "#T-Statistic\n",
    "\n",
    "import numpy as np\n",
    "from scipy import stats\n",
    "a = np.array([45.0,40.0, 49.0, 52.0, 54.0, 64.0, 36.0, 41.0, 42.0, 34.0])\n",
    "b = np.array([75.0, 85.0, 53.0, 70.0, 72.0, 93.0,\n",
    "61.0, 65.0, 65.0, 72.0])\n",
    "stats.ttest_ind(a,b)\n",
    "\n",
    "#p value shows that the two distn are not identical since it is very small"
   ]
  },
  {
   "cell_type": "code",
   "execution_count": 8,
   "metadata": {},
   "outputs": [
    {
     "data": {
      "text/plain": [
       "Power_divergenceResult(statistic=4.342857142857143, pvalue=0.5011797115249412)"
      ]
     },
     "execution_count": 8,
     "metadata": {},
     "output_type": "execute_result"
    }
   ],
   "source": [
    "#Chi - squared statistic test for the goodness of fit which is used to figure out if the \n",
    "#observed values are similar with the expected values in a distn or not\n",
    "#ex = contains the expected frequency for each number on thee dice to turn up\n",
    "#ob = contains the observed frequency for each number on thee dice to turn up\n",
    "#first value will be chi - squared statistic and the seconf will be p-value\n",
    "#The null hypothesis in the chi-square test is that the observed value is similar to the expected value\n",
    "\n",
    "import numpy as np\n",
    "from scipy import stats\n",
    "\n",
    "ex = np.array([6,6,6,6,6,6])\n",
    "ob = np.array([7, 5, 3, 9, 6, 6])\n",
    "stats.chisquare(ex,ob)\n",
    "\n",
    "#since the p-value is pretty high it can be said that the null hypothesis can be accepted"
   ]
  },
  {
   "cell_type": "code",
   "execution_count": 12,
   "metadata": {},
   "outputs": [
    {
     "data": {
      "text/plain": [
       "(28.362103174603167,\n",
       " 6.938211717057744e-07,\n",
       " 2,\n",
       " array([[136.95652174,  97.39130435,  45.65217391],\n",
       "        [313.04347826, 222.60869565, 104.34782609]]))"
      ]
     },
     "execution_count": 12,
     "metadata": {},
     "output_type": "execute_result"
    }
   ],
   "source": [
    "#Chi - square test for independence\n",
    "#null - hypothesis: There is no association between the gender of people and the genre of the book they read\n",
    "arr = np.array([[100, 120, 60],[350, 200, 90]])\n",
    "stats.chi2_contingency(arr)\n",
    "\n",
    "#first value is chi square followed by, p-value,degrees of freedom, array of expected frequencies\n",
    "#since the p-value is very small hence null hypothesis can be rejected\n",
    "#That means that there is an association between the gender of people and the genre of the book they read"
   ]
  },
  {
   "cell_type": "code",
   "execution_count": 21,
   "metadata": {},
   "outputs": [
    {
     "name": "stdout",
     "output_type": "stream",
     "text": [
      "F_onewayResult(statistic=2.9852039682643414, pvalue=0.05307967881268609)\n"
     ]
    }
   ],
   "source": [
    "#ANOVA - Analysis of Variance\n",
    "#It is used to determine the differnce between two or more means\n",
    "#Hypothesis: Mean heights of the men from three different countries are significantly different from others\n",
    "#Null Hypothesis : Mean heights of the men from three different countries are not significantly different from others\n",
    "\n",
    "import numpy as np\n",
    "from scipy import stats\n",
    "\n",
    "country1 = np.array([ 176., 179., 180., 188., 187., 184., 171.,\n",
    "201., 172.,\n",
    "181., 192., 187., 178., 178., 180., 199., 185., 176.,\n",
    "207., 177., 160., 174., 176., 192., 189., 187., 183.,\n",
    "180., 181., 200., 190., 187., 175., 179., 181., 183.,\n",
    "171., 181., 190., 186., 185., 188., 201., 192., 188.,\n",
    "181., 172., 191., 201., 170., 170., 192., 185., 167.,\n",
    "178., 179., 167., 183., 200., 185.])\n",
    "\n",
    "country2 = np.array([ 177., 165., 175., 172., 179., 192., 169.,\n",
    "185., 187.,167., 162., 165., 188., 194., 187., 175., 163., 178.,\n",
    "197., 172., 175., 185., 176., 171., 172., 186., 168.,\n",
    "178., 191., 192., 175., 189., 178., 181., 170., 182.,\n",
    "166., 189., 196., 192., 189., 171., 185., 198., 181.,\n",
    "167., 184., 179., 178., 193., 179., 177., 181., 174.,\n",
    "171., 184., 156., 180., 181., 187.])\n",
    "\n",
    "country3 = np.array([ 191., 190., 191., 185., 190., 184.,\n",
    "173., 175., 200.,\n",
    "190., 191., 184., 167., 194., 195., 174., 171., 191.,\n",
    "174., 177., 182., 184., 176., 180., 181., 186., 179.,\n",
    "176., 186., 176., 184., 194., 179., 171., 174., 174.,\n",
    "182., 198., 180., 178., 200., 200., 174., 202., 176.,\n",
    "180., 163., 159., 194., 192., 163., 194., 183., 190.,\n",
    "186., 178., 182., 174., 178., 182.])\n",
    "\n",
    "statistic = stats.f_oneway(country1,country2,country3)\n",
    "print(statistic)\n",
    "\n",
    "#first value is f-value and the second value is p-value\n",
    "#Since the p-value is greater than 5% by a small margin hence we have to accept the null hypothesis\n",
    "#Which says that Mean heights of the men from three different countries are not significantly different from others "
   ]
  },
  {
   "cell_type": "code",
   "execution_count": null,
   "metadata": {},
   "outputs": [],
   "source": []
  }
 ],
 "metadata": {
  "kernelspec": {
   "display_name": "Python 3",
   "language": "python",
   "name": "python3"
  },
  "language_info": {
   "codemirror_mode": {
    "name": "ipython",
    "version": 3
   },
   "file_extension": ".py",
   "mimetype": "text/x-python",
   "name": "python",
   "nbconvert_exporter": "python",
   "pygments_lexer": "ipython3",
   "version": "3.7.3"
  }
 },
 "nbformat": 4,
 "nbformat_minor": 2
}
